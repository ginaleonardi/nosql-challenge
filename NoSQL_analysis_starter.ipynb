{
 "cells": [
  {
   "cell_type": "markdown",
   "id": "19f87cae",
   "metadata": {},
   "source": [
    "# Eat Safe, Love"
   ]
  },
  {
   "cell_type": "markdown",
   "id": "993942d6",
   "metadata": {},
   "source": [
    "## Notebook Set Up"
   ]
  },
  {
   "cell_type": "code",
   "execution_count": 1,
   "id": "d5764bf4",
   "metadata": {},
   "outputs": [],
   "source": [
    "# Import dependencies\n",
    "from pymongo import MongoClient\n",
    "from pprint import pprint"
   ]
  },
  {
   "cell_type": "code",
   "execution_count": 2,
   "id": "977b6e41",
   "metadata": {},
   "outputs": [],
   "source": [
    "# Create an instance of MongoClient\n",
    "mongo = MongoClient(port=27017)"
   ]
  },
  {
   "cell_type": "code",
   "execution_count": 3,
   "id": "afbf8ea5",
   "metadata": {},
   "outputs": [],
   "source": [
    "# assign the uk_food database to a variable name\n",
    "db = mongo['uk_food']"
   ]
  },
  {
   "cell_type": "code",
   "execution_count": 4,
   "id": "000c7f5f",
   "metadata": {},
   "outputs": [
    {
     "name": "stdout",
     "output_type": "stream",
     "text": [
      "['establishments']\n"
     ]
    }
   ],
   "source": [
    "# review the collections in our database\n",
    "print(db.list_collection_names())"
   ]
  },
  {
   "cell_type": "code",
   "execution_count": 5,
   "id": "3d0e56f8",
   "metadata": {},
   "outputs": [],
   "source": [
    "# assign the collection to a variable\n",
    "establishments = db['establishments']"
   ]
  },
  {
   "cell_type": "markdown",
   "id": "13c930fc",
   "metadata": {},
   "source": [
    "## Part 3: Exploratory Analysis\n",
    "Unless otherwise stated, for each question: \n",
    "* Use `count_documents` to display the number of documents contained in the result.\n",
    "* Display the first document in the results using `pprint`.\n",
    "* Convert the result to a Pandas DataFrame, print the number of rows in the DataFrame, and display the first 10 rows."
   ]
  },
  {
   "cell_type": "markdown",
   "id": "502ae124",
   "metadata": {},
   "source": [
    "### 1. Which establishments have a hygiene score equal to 20?"
   ]
  },
  {
   "cell_type": "code",
   "execution_count": 6,
   "id": "03a9afbb",
   "metadata": {},
   "outputs": [
    {
     "name": "stdout",
     "output_type": "stream",
     "text": [
      "Number of documents with hygiene scores equal to 20:  41\n",
      "First result:\n",
      "{'AddressLine1': '5-6 Southfields Road',\n",
      " 'AddressLine2': 'Eastbourne',\n",
      " 'AddressLine3': 'East Sussex',\n",
      " 'AddressLine4': '',\n",
      " 'BusinessName': 'The Chase Rest Home',\n",
      " 'BusinessType': 'Caring Premises',\n",
      " 'BusinessTypeID': 5,\n",
      " 'ChangesByServerID': 0,\n",
      " 'Distance': 4613.888288172291,\n",
      " 'FHRSID': 110681,\n",
      " 'LocalAuthorityBusinessID': '4029',\n",
      " 'LocalAuthorityCode': '102',\n",
      " 'LocalAuthorityEmailAddress': 'Customerfirst@eastbourne.gov.uk',\n",
      " 'LocalAuthorityName': 'Eastbourne',\n",
      " 'LocalAuthorityWebSite': 'http://www.eastbourne.gov.uk/foodratings',\n",
      " 'NewRatingPending': False,\n",
      " 'Phone': '',\n",
      " 'PostCode': 'BN21 1BU',\n",
      " 'RatingDate': '2021-09-23T00:00:00',\n",
      " 'RatingKey': 'fhrs_0_en-gb',\n",
      " 'RatingValue': '0',\n",
      " 'RightToReply': '',\n",
      " 'SchemeType': 'FHRS',\n",
      " '_id': ObjectId('640a6a4399ce665192d06b64'),\n",
      " 'geocode': {'latitude': 50.769705, 'longitude': 0.27694},\n",
      " 'latitude': None,\n",
      " 'links': [{'href': 'https://api.ratings.food.gov.uk/establishments/110681',\n",
      "            'rel': 'self'}],\n",
      " 'longitude': None,\n",
      " 'meta': {'dataSource': None,\n",
      "          'extractDate': '0001-01-01T00:00:00',\n",
      "          'itemCount': 0,\n",
      "          'pageNumber': 0,\n",
      "          'pageSize': 0,\n",
      "          'returncode': None,\n",
      "          'totalCount': 0,\n",
      "          'totalPages': 0},\n",
      " 'scores': {'ConfidenceInManagement': 20, 'Hygiene': 20, 'Structural': 20}}\n"
     ]
    }
   ],
   "source": [
    "# Find the establishments with a hygiene score of 20\n",
    "query =  {'scores.Hygiene': {'$eq':20}}\n",
    "\n",
    "# Use count_documents to display the number of documents in the result\n",
    "results = establishments.count_documents(query)\n",
    "print('Number of documents with hygiene scores equal to 20: ', results)\n",
    "\n",
    "# Display the first document in the results using pprint\n",
    "print(\"First result:\")\n",
    "first_result = establishments.find(query)\n",
    "pprint(first_result[0])"
   ]
  },
  {
   "cell_type": "code",
   "execution_count": 7,
   "id": "6a54f2d6",
   "metadata": {},
   "outputs": [],
   "source": [
    "# Convert the result to a Pandas DataFrame\n",
    "\n",
    "# Display the number of rows in the DataFrame\n",
    "\n",
    "# Display the first 10 rows of the DataFrame\n"
   ]
  },
  {
   "cell_type": "markdown",
   "id": "bc1c0738",
   "metadata": {},
   "source": [
    "### 2. Which establishments in London have a `RatingValue` greater than or equal to 4?"
   ]
  },
  {
   "cell_type": "code",
   "execution_count": 12,
   "id": "61293570",
   "metadata": {},
   "outputs": [
    {
     "name": "stdout",
     "output_type": "stream",
     "text": [
      "Number of documents:  34\n",
      "First result:\n",
      "{'AddressLine1': 'Oak Apple Farm Building 103 Sheernes Docks',\n",
      " 'AddressLine2': 'Sheppy Kent',\n",
      " 'AddressLine3': '',\n",
      " 'AddressLine4': '',\n",
      " 'BusinessName': \"Charlie's\",\n",
      " 'BusinessType': 'Other catering premises',\n",
      " 'BusinessTypeID': 7841,\n",
      " 'ChangesByServerID': 0,\n",
      " 'Distance': 4627.439467780196,\n",
      " 'FHRSID': 621707,\n",
      " 'LocalAuthorityBusinessID': 'PI/000025307',\n",
      " 'LocalAuthorityCode': '508',\n",
      " 'LocalAuthorityEmailAddress': 'publicprotection@cityoflondon.gov.uk',\n",
      " 'LocalAuthorityName': 'City of London Corporation',\n",
      " 'LocalAuthorityWebSite': 'http://www.cityoflondon.gov.uk/Corporation/homepage.htm',\n",
      " 'NewRatingPending': False,\n",
      " 'Phone': '',\n",
      " 'PostCode': 'ME12',\n",
      " 'RatingDate': '2021-10-18T00:00:00',\n",
      " 'RatingKey': 'fhrs_4_en-gb',\n",
      " 'RatingValue': '4',\n",
      " 'RightToReply': '',\n",
      " 'SchemeType': 'FHRS',\n",
      " '_id': ObjectId('640a6a4699ce665192d0857f'),\n",
      " 'geocode': {'latitude': 51.369321, 'longitude': 0.508551},\n",
      " 'latitude': None,\n",
      " 'links': [{'href': 'https://api.ratings.food.gov.uk/establishments/621707',\n",
      "            'rel': 'self'}],\n",
      " 'longitude': None,\n",
      " 'meta': {'dataSource': None,\n",
      "          'extractDate': '0001-01-01T00:00:00',\n",
      "          'itemCount': 0,\n",
      "          'pageNumber': 0,\n",
      "          'pageSize': 0,\n",
      "          'returncode': None,\n",
      "          'totalCount': 0,\n",
      "          'totalPages': 0},\n",
      " 'scores': {'ConfidenceInManagement': 5, 'Hygiene': 5, 'Structural': 10}}\n"
     ]
    }
   ],
   "source": [
    "# Find the establishments with London as the Local Authority and has a RatingValue greater than or equal to 4.\n",
    "query = {'LocalAuthorityName': {'$regex': 'London'},\n",
    "         'RatingValue': {'$gte': '4'}}\n",
    "\n",
    "# Use count_documents to display the number of documents in the result\n",
    "results = establishments.count_documents(query)\n",
    "print('Number of documents: ', results)\n",
    "\n",
    "# Display the first document in the results using pprint\n",
    "print(\"First result:\")\n",
    "first_result = establishments.find(query)\n",
    "pprint(first_result[0])"
   ]
  },
  {
   "cell_type": "code",
   "execution_count": 9,
   "id": "0c4453a4",
   "metadata": {},
   "outputs": [],
   "source": [
    "# Convert the result to a Pandas DataFrame\n",
    "\n",
    "# Display the number of rows in the DataFrame\n",
    "\n",
    "# Display the first 10 rows of the DataFrame\n"
   ]
  },
  {
   "cell_type": "markdown",
   "id": "a9d81e49",
   "metadata": {},
   "source": [
    "### 3. What are the top 5 establishments with a `RatingValue` rating value of '5', sorted by lowest hygiene score, nearest to the new restaurant added, \"Penang Flavours\"?"
   ]
  },
  {
   "cell_type": "code",
   "execution_count": 14,
   "id": "eeb67aa6",
   "metadata": {},
   "outputs": [
    {
     "name": "stdout",
     "output_type": "stream",
     "text": [
      "{'BusinessName': 'Penang Flavours',\n",
      " '_id': ObjectId('640a6a59f114935c82babed9'),\n",
      " 'geocode': {'latitude': 51.490142, 'longitude': 0.08384}}\n"
     ]
    }
   ],
   "source": [
    "#Get longitude and latitude of Penang Flavours\n",
    "query = {'BusinessName': 'Penang Flavours'}\n",
    "fields = {'geocode.longitude': 1, 'geocode.latitude': 1, 'BusinessName': 1}\n",
    "results = establishments.find(query, fields)\n",
    "for result in results:\n",
    "    pprint(result)"
   ]
  },
  {
   "cell_type": "code",
   "execution_count": 25,
   "id": "0167b459",
   "metadata": {},
   "outputs": [
    {
     "name": "stdout",
     "output_type": "stream",
     "text": [
      "[{'AddressLine1': 'Fish N Chips Takeaway',\n",
      "  'AddressLine2': '129 High Street',\n",
      "  'AddressLine3': 'Walton On The Naze',\n",
      "  'AddressLine4': 'Essex',\n",
      "  'BusinessName': 'Fish N Chips',\n",
      "  'BusinessType': 'Takeaway/sandwich shop',\n",
      "  'BusinessTypeID': 7844,\n",
      "  'ChangesByServerID': 0,\n",
      "  'Distance': 4617.859513098851,\n",
      "  'FHRSID': 1042383,\n",
      "  'LocalAuthorityBusinessID': '18/00052/FOOD',\n",
      "  'LocalAuthorityCode': '120',\n",
      "  'LocalAuthorityEmailAddress': 'fhsadmin@tendringdc.gov.uk',\n",
      "  'LocalAuthorityName': 'Tendring',\n",
      "  'LocalAuthorityWebSite': 'http://www.tendringdc.gov.uk/',\n",
      "  'NewRatingPending': False,\n",
      "  'Phone': '',\n",
      "  'PostCode': 'CO14 8AT',\n",
      "  'RatingDate': '2021-07-08T00:00:00',\n",
      "  'RatingKey': 'fhrs_5_en-gb',\n",
      "  'RatingValue': '5',\n",
      "  'RightToReply': '',\n",
      "  'SchemeType': 'FHRS',\n",
      "  '_id': ObjectId('640a6a4499ce665192d06e9b'),\n",
      "  'geocode': {'latitude': 51.8500213623047, 'longitude': 1.27371597290039},\n",
      "  'latitude': None,\n",
      "  'links': [{'href': 'https://api.ratings.food.gov.uk/establishments/1042383',\n",
      "             'rel': 'self'}],\n",
      "  'longitude': None,\n",
      "  'meta': {'dataSource': None,\n",
      "           'extractDate': '0001-01-01T00:00:00',\n",
      "           'itemCount': 0,\n",
      "           'pageNumber': 0,\n",
      "           'pageSize': 0,\n",
      "           'returncode': None,\n",
      "           'totalCount': 0,\n",
      "           'totalPages': 0},\n",
      "  'scores': {'ConfidenceInManagement': 0, 'Hygiene': 5, 'Structural': 5}},\n",
      " {'AddressLine1': '11 Old Pier Street',\n",
      "  'AddressLine2': 'Walton On The Naze',\n",
      "  'AddressLine3': 'Essex',\n",
      "  'AddressLine4': '',\n",
      "  'BusinessName': 'Pearl of Samui Thai Restaurant',\n",
      "  'BusinessType': 'Restaurant/Cafe/Canteen',\n",
      "  'BusinessTypeID': 1,\n",
      "  'ChangesByServerID': 0,\n",
      "  'Distance': 4617.8747732132715,\n",
      "  'FHRSID': 611641,\n",
      "  'LocalAuthorityBusinessID': '10/00028/FOOD',\n",
      "  'LocalAuthorityCode': '120',\n",
      "  'LocalAuthorityEmailAddress': 'fhsadmin@tendringdc.gov.uk',\n",
      "  'LocalAuthorityName': 'Tendring',\n",
      "  'LocalAuthorityWebSite': 'http://www.tendringdc.gov.uk/',\n",
      "  'NewRatingPending': False,\n",
      "  'Phone': '',\n",
      "  'PostCode': 'CO14 8AW',\n",
      "  'RatingDate': '2019-01-03T00:00:00',\n",
      "  'RatingKey': 'fhrs_5_en-gb',\n",
      "  'RatingValue': '5',\n",
      "  'RightToReply': '',\n",
      "  'SchemeType': 'FHRS',\n",
      "  '_id': ObjectId('640a6a4499ce665192d06ea6'),\n",
      "  'geocode': {'latitude': 51.848399, 'longitude': 1.271565},\n",
      "  'latitude': None,\n",
      "  'links': [{'href': 'https://api.ratings.food.gov.uk/establishments/611641',\n",
      "             'rel': 'self'}],\n",
      "  'longitude': None,\n",
      "  'meta': {'dataSource': None,\n",
      "           'extractDate': '0001-01-01T00:00:00',\n",
      "           'itemCount': 0,\n",
      "           'pageNumber': 0,\n",
      "           'pageSize': 0,\n",
      "           'returncode': None,\n",
      "           'totalCount': 0,\n",
      "           'totalPages': 0},\n",
      "  'scores': {'ConfidenceInManagement': 5, 'Hygiene': 5, 'Structural': 5}},\n",
      " {'AddressLine1': '135 High Street',\n",
      "  'AddressLine2': 'Walton On The Naze',\n",
      "  'AddressLine3': 'Essex',\n",
      "  'AddressLine4': '',\n",
      "  'BusinessName': 'Revved Up Tea Bar & Clothing Shop',\n",
      "  'BusinessType': 'Retailers - other',\n",
      "  'BusinessTypeID': 4613,\n",
      "  'ChangesByServerID': 0,\n",
      "  'Distance': 4617.859534081528,\n",
      "  'FHRSID': 908238,\n",
      "  'LocalAuthorityBusinessID': '16/00153/FOOD',\n",
      "  'LocalAuthorityCode': '120',\n",
      "  'LocalAuthorityEmailAddress': 'fhsadmin@tendringdc.gov.uk',\n",
      "  'LocalAuthorityName': 'Tendring',\n",
      "  'LocalAuthorityWebSite': 'http://www.tendringdc.gov.uk/',\n",
      "  'NewRatingPending': False,\n",
      "  'Phone': '',\n",
      "  'PostCode': 'CO14 8AT',\n",
      "  'RatingDate': '2017-10-03T00:00:00',\n",
      "  'RatingKey': 'fhrs_5_en-gb',\n",
      "  'RatingValue': '5',\n",
      "  'RightToReply': '',\n",
      "  'SchemeType': 'FHRS',\n",
      "  '_id': ObjectId('640a6a4499ce665192d06e9c'),\n",
      "  'geocode': {'latitude': 51.850021, 'longitude': 1.273715},\n",
      "  'latitude': None,\n",
      "  'links': [{'href': 'https://api.ratings.food.gov.uk/establishments/908238',\n",
      "             'rel': 'self'}],\n",
      "  'longitude': None,\n",
      "  'meta': {'dataSource': None,\n",
      "           'extractDate': '0001-01-01T00:00:00',\n",
      "           'itemCount': 0,\n",
      "           'pageNumber': 0,\n",
      "           'pageSize': 0,\n",
      "           'returncode': None,\n",
      "           'totalCount': 0,\n",
      "           'totalPages': 0},\n",
      "  'scores': {'ConfidenceInManagement': 5, 'Hygiene': 5, 'Structural': 0}},\n",
      " {'AddressLine1': '131 High Street',\n",
      "  'AddressLine2': 'Walton On The Naze',\n",
      "  'AddressLine3': 'Essex',\n",
      "  'AddressLine4': '',\n",
      "  'BusinessName': 'Beach House (Walton Resturant)',\n",
      "  'BusinessType': 'Restaurant/Cafe/Canteen',\n",
      "  'BusinessTypeID': 1,\n",
      "  'ChangesByServerID': 0,\n",
      "  'Distance': 4617.854523667842,\n",
      "  'FHRSID': 1042382,\n",
      "  'LocalAuthorityBusinessID': '18/00051/FOOD',\n",
      "  'LocalAuthorityCode': '120',\n",
      "  'LocalAuthorityEmailAddress': 'fhsadmin@tendringdc.gov.uk',\n",
      "  'LocalAuthorityName': 'Tendring',\n",
      "  'LocalAuthorityWebSite': 'http://www.tendringdc.gov.uk/',\n",
      "  'NewRatingPending': False,\n",
      "  'Phone': '',\n",
      "  'PostCode': 'CO14 8AT',\n",
      "  'RatingDate': '2021-07-08T00:00:00',\n",
      "  'RatingKey': 'fhrs_5_en-gb',\n",
      "  'RatingValue': '5',\n",
      "  'RightToReply': '',\n",
      "  'SchemeType': 'FHRS',\n",
      "  '_id': ObjectId('640a6a4499ce665192d06e91'),\n",
      "  'geocode': {'latitude': 51.8500545, 'longitude': 1.273891},\n",
      "  'latitude': None,\n",
      "  'links': [{'href': 'https://api.ratings.food.gov.uk/establishments/1042382',\n",
      "             'rel': 'self'}],\n",
      "  'longitude': None,\n",
      "  'meta': {'dataSource': None,\n",
      "           'extractDate': '0001-01-01T00:00:00',\n",
      "           'itemCount': 0,\n",
      "           'pageNumber': 0,\n",
      "           'pageSize': 0,\n",
      "           'returncode': None,\n",
      "           'totalCount': 0,\n",
      "           'totalPages': 0},\n",
      "  'scores': {'ConfidenceInManagement': 0, 'Hygiene': 5, 'Structural': 5}},\n",
      " {'AddressLine1': '30 - 31 The Parade',\n",
      "  'AddressLine2': 'Walton-on-the-Naze',\n",
      "  'AddressLine3': 'Essex',\n",
      "  'AddressLine4': '',\n",
      "  'BusinessName': 'Walton Tavern',\n",
      "  'BusinessType': 'Pub/bar/nightclub',\n",
      "  'BusinessTypeID': 7843,\n",
      "  'ChangesByServerID': 0,\n",
      "  'Distance': 4617.848109377572,\n",
      "  'FHRSID': 611980,\n",
      "  'LocalAuthorityBusinessID': '1762/FOOD',\n",
      "  'LocalAuthorityCode': '120',\n",
      "  'LocalAuthorityEmailAddress': 'fhsadmin@tendringdc.gov.uk',\n",
      "  'LocalAuthorityName': 'Tendring',\n",
      "  'LocalAuthorityWebSite': 'http://www.tendringdc.gov.uk/',\n",
      "  'NewRatingPending': False,\n",
      "  'Phone': '',\n",
      "  'PostCode': 'CO14 8AP',\n",
      "  'RatingDate': '2017-01-09T00:00:00',\n",
      "  'RatingKey': 'fhrs_5_en-gb',\n",
      "  'RatingValue': '5',\n",
      "  'RightToReply': '',\n",
      "  'SchemeType': 'FHRS',\n",
      "  '_id': ObjectId('640a6a4499ce665192d06e8e'),\n",
      "  'geocode': {'latitude': 51.848187, 'longitude': 1.272087},\n",
      "  'latitude': None,\n",
      "  'links': [{'href': 'https://api.ratings.food.gov.uk/establishments/611980',\n",
      "             'rel': 'self'}],\n",
      "  'longitude': None,\n",
      "  'meta': {'dataSource': None,\n",
      "           'extractDate': '0001-01-01T00:00:00',\n",
      "           'itemCount': 0,\n",
      "           'pageNumber': 0,\n",
      "           'pageSize': 0,\n",
      "           'returncode': None,\n",
      "           'totalCount': 0,\n",
      "           'totalPages': 0},\n",
      "  'scores': {'ConfidenceInManagement': 5, 'Hygiene': 5, 'Structural': 0}}]\n"
     ]
    }
   ],
   "source": [
    "# Search within 0.01 degree on either side of the latitude and longitude.\n",
    "# Rating value must equal 5\n",
    "# Sort by hygiene score\n",
    "\n",
    "degree_search = 0.01\n",
    "latitude = 51.490142\n",
    "longitude = 0.08384\n",
    "\n",
    "query = {'RatingValue': {'$eq': '5'},\n",
    "         'geocode.latitude': {'$lte': (latitude + degree_search)},\n",
    "         'geocode.latitude': {'$gte': (latitude - degree_search)},\n",
    "         'geocode.longitude': {'$lte': (longitude + degree_search)},\n",
    "         'geocode.longitude': {'$gte': (longitude - degree_search)}}\n",
    "\n",
    "sort =  [('scores.Hygiene', -1)]\n",
    "\n",
    "limit = 5\n",
    "\n",
    "# Print the results\n",
    "\n",
    "pprint(list(establishments.find(query).sort(sort).limit(limit)))"
   ]
  },
  {
   "cell_type": "code",
   "execution_count": null,
   "id": "42a83043",
   "metadata": {},
   "outputs": [],
   "source": [
    "# Convert result to Pandas DataFrame\n"
   ]
  },
  {
   "cell_type": "markdown",
   "id": "ef12641f",
   "metadata": {},
   "source": [
    "### 4. How many establishments in each Local Authority area have a hygiene score of 0?"
   ]
  },
  {
   "cell_type": "code",
   "execution_count": null,
   "id": "cd049fe4",
   "metadata": {},
   "outputs": [],
   "source": [
    "# Create a pipeline that: \n",
    "# 1. Matches establishments with a hygiene score of 0\n",
    "# 2. Groups the matches by Local Authority\n",
    "# 3. Sorts the matches from highest to lowest\n",
    "\n",
    "# Print the number of documents in the result\n",
    "\n",
    "# Print the first 10 results\n"
   ]
  },
  {
   "cell_type": "code",
   "execution_count": null,
   "id": "13fe2409",
   "metadata": {},
   "outputs": [],
   "source": [
    "# Convert the result to a Pandas DataFrame\n",
    "\n",
    "# Display the number of rows in the DataFrame\n",
    "\n",
    "# Display the first 10 rows of the DataFrame\n"
   ]
  }
 ],
 "metadata": {
  "kernelspec": {
   "display_name": "PythonData",
   "language": "python",
   "name": "pythondata"
  },
  "language_info": {
   "codemirror_mode": {
    "name": "ipython",
    "version": 3
   },
   "file_extension": ".py",
   "mimetype": "text/x-python",
   "name": "python",
   "nbconvert_exporter": "python",
   "pygments_lexer": "ipython3",
   "version": "3.7.7"
  }
 },
 "nbformat": 4,
 "nbformat_minor": 5
}
